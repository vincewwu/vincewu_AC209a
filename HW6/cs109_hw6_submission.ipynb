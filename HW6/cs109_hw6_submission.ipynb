{
 "cells": [
  {
   "cell_type": "markdown",
   "metadata": {},
   "source": [
    "# CS 109A/STAT 121A/AC 209A/CSCI E-109A: Homework 6\n",
    "# Reg-Logistic Regression, ROC, and Data Imputation\n",
    "\n",
    "**Harvard University**<br/>\n",
    "**Fall 2017**<br/>\n",
    "**Instructors**: Pavlos Protopapas, Kevin Rader, Rahul Dave, Margo Levine\n",
    "\n",
    "---\n",
    "\n",
    "### INSTRUCTIONS\n",
    "\n",
    "- To submit your assignment follow the instructions given in canvas.\n",
    "- Restart the kernel and run the whole notebook again before you submit. \n",
    "- Do not include your name(s) in the notebook if you are submitting as a group. \n",
    "- If you submit individually and you have worked with someone, please include the name of your [one] partner below. \n",
    "\n",
    "---"
   ]
  },
  {
   "cell_type": "markdown",
   "metadata": {},
   "source": [
    "Your partner's name (if you submit separately):\n",
    "\n",
    "Enrollment Status (109A, 121A, 209A, or E109A): AC209"
   ]
  },
  {
   "cell_type": "markdown",
   "metadata": {},
   "source": [
    "Import libraries:"
   ]
  },
  {
   "cell_type": "code",
   "execution_count": 1,
   "metadata": {
    "collapsed": true
   },
   "outputs": [],
   "source": [
    "import numpy as np\n",
    "import pandas as pd\n",
    "import matplotlib\n",
    "import matplotlib.pyplot as plt\n",
    "from sklearn.linear_model import LogisticRegressionCV\n",
    "import sklearn.metrics as metrics\n",
    "from sklearn.preprocessing import PolynomialFeatures\n",
    "from sklearn.discriminant_analysis import LinearDiscriminantAnalysis\n",
    "from sklearn.discriminant_analysis import QuadraticDiscriminantAnalysis\n",
    "from sklearn.neighbors import KNeighborsClassifier\n",
    "from sklearn.tree import DecisionTreeClassifier\n",
    "from sklearn.model_selection import cross_val_score\n",
    "from sklearn.metrics import accuracy_score\n",
    "\n",
    "from sklearn.tree import export_graphviz\n",
    "from IPython.display import Image\n",
    "from IPython.display import display\n",
    "\n",
    "import seaborn as sns\n",
    "%matplotlib inline"
   ]
  },
  {
   "cell_type": "markdown",
   "metadata": {},
   "source": [
    "## Automated Breast Cancer Detection\n",
    "\n",
    "In this homework, we will consider the problem of early breast cancer detection from X-ray images. Specifically, given a candidate region of interest (ROI) from an X-ray image of a patient's breast, the goal is to predict if the region corresponds to a malignant tumor (label 1) or is normal (label 0). The training and test data sets for this problem is provided in the file `hw6_dataset.csv`. Each row in these files corresponds to a ROI in a patient's X-ray, with columns 1-117 containing features computed using standard image processing algorithms. The last column contains the class label, and is based on a radiologist's opinion or a biopsy. This data was obtained from the KDD Cup 2008 challenge.\n",
    "\n",
    "The data set contain a total of 69,098 candidate ROIs, of which only 409 are malignant, while the remaining are all normal. \n",
    "\n",
    "*Note*: be careful of reading/treating column names and row names in this data set."
   ]
  },
  {
   "cell_type": "code",
   "execution_count": 2,
   "metadata": {
    "collapsed": true
   },
   "outputs": [],
   "source": [
    "df = pd.read_csv('hw6_dataset.csv')"
   ]
  },
  {
   "cell_type": "code",
   "execution_count": 3,
   "metadata": {},
   "outputs": [
    {
     "data": {
      "text/html": [
       "<div>\n",
       "<style>\n",
       "    .dataframe thead tr:only-child th {\n",
       "        text-align: right;\n",
       "    }\n",
       "\n",
       "    .dataframe thead th {\n",
       "        text-align: left;\n",
       "    }\n",
       "\n",
       "    .dataframe tbody tr th {\n",
       "        vertical-align: top;\n",
       "    }\n",
       "</style>\n",
       "<table border=\"1\" class=\"dataframe\">\n",
       "  <thead>\n",
       "    <tr style=\"text-align: right;\">\n",
       "      <th></th>\n",
       "      <th>-1.439999999999999891e-01</th>\n",
       "      <th>-1.429999999999999882e-01</th>\n",
       "      <th>-1.160000000000000059e-01</th>\n",
       "      <th>-1.029999999999999943e-01</th>\n",
       "      <th>2.260000000000000064e-01</th>\n",
       "      <th>2.099999999999999922e-01</th>\n",
       "      <th>-9.799999999999999822e-01</th>\n",
       "      <th>-7.800000000000000266e-01</th>\n",
       "      <th>-4.739999999999999769e-01</th>\n",
       "      <th>-4.470000000000000084e-01</th>\n",
       "      <th>...</th>\n",
       "      <th>9.250000000000000444e-01</th>\n",
       "      <th>5.160000000000000142e-01</th>\n",
       "      <th>3.439999999999999725e-01</th>\n",
       "      <th>9.060000000000000275e-01</th>\n",
       "      <th>-1.129999999999999893e+00</th>\n",
       "      <th>-5.520000000000000462e-01</th>\n",
       "      <th>5.530000000000000471e-01</th>\n",
       "      <th>-4.169999999999999818e-01</th>\n",
       "      <th>2.560000000000000053e-01</th>\n",
       "      <th>0.000000000000000000e+00</th>\n",
       "    </tr>\n",
       "  </thead>\n",
       "  <tbody>\n",
       "    <tr>\n",
       "      <th>0</th>\n",
       "      <td>-0.01100</td>\n",
       "      <td>0.138</td>\n",
       "      <td>-0.2230</td>\n",
       "      <td>-0.1730</td>\n",
       "      <td>0.188</td>\n",
       "      <td>0.284</td>\n",
       "      <td>-0.0522</td>\n",
       "      <td>-0.256</td>\n",
       "      <td>0.129</td>\n",
       "      <td>0.427</td>\n",
       "      <td>...</td>\n",
       "      <td>-0.593</td>\n",
       "      <td>0.452</td>\n",
       "      <td>0.00785</td>\n",
       "      <td>-0.533</td>\n",
       "      <td>-0.0789</td>\n",
       "      <td>0.705</td>\n",
       "      <td>0.906</td>\n",
       "      <td>0.216</td>\n",
       "      <td>-0.0723</td>\n",
       "      <td>0.0</td>\n",
       "    </tr>\n",
       "    <tr>\n",
       "      <th>1</th>\n",
       "      <td>0.21200</td>\n",
       "      <td>-0.313</td>\n",
       "      <td>0.2660</td>\n",
       "      <td>0.2320</td>\n",
       "      <td>-1.190</td>\n",
       "      <td>-1.150</td>\n",
       "      <td>-1.8100</td>\n",
       "      <td>-1.560</td>\n",
       "      <td>-1.250</td>\n",
       "      <td>-1.200</td>\n",
       "      <td>...</td>\n",
       "      <td>-0.816</td>\n",
       "      <td>1.570</td>\n",
       "      <td>0.39400</td>\n",
       "      <td>1.340</td>\n",
       "      <td>-1.1800</td>\n",
       "      <td>-2.700</td>\n",
       "      <td>-0.926</td>\n",
       "      <td>-2.650</td>\n",
       "      <td>-0.0447</td>\n",
       "      <td>0.0</td>\n",
       "    </tr>\n",
       "    <tr>\n",
       "      <th>2</th>\n",
       "      <td>0.21500</td>\n",
       "      <td>-0.184</td>\n",
       "      <td>0.0274</td>\n",
       "      <td>0.0494</td>\n",
       "      <td>0.443</td>\n",
       "      <td>0.463</td>\n",
       "      <td>-1.0500</td>\n",
       "      <td>-0.941</td>\n",
       "      <td>-0.531</td>\n",
       "      <td>-0.394</td>\n",
       "      <td>...</td>\n",
       "      <td>0.634</td>\n",
       "      <td>0.111</td>\n",
       "      <td>0.37100</td>\n",
       "      <td>0.859</td>\n",
       "      <td>-0.9930</td>\n",
       "      <td>-0.492</td>\n",
       "      <td>0.363</td>\n",
       "      <td>0.326</td>\n",
       "      <td>-0.0528</td>\n",
       "      <td>0.0</td>\n",
       "    </tr>\n",
       "    <tr>\n",
       "      <th>3</th>\n",
       "      <td>0.27900</td>\n",
       "      <td>-0.197</td>\n",
       "      <td>0.1270</td>\n",
       "      <td>0.0973</td>\n",
       "      <td>-0.213</td>\n",
       "      <td>-0.150</td>\n",
       "      <td>-1.3200</td>\n",
       "      <td>-0.994</td>\n",
       "      <td>-1.110</td>\n",
       "      <td>-1.090</td>\n",
       "      <td>...</td>\n",
       "      <td>-0.640</td>\n",
       "      <td>0.485</td>\n",
       "      <td>0.29500</td>\n",
       "      <td>0.403</td>\n",
       "      <td>-1.1200</td>\n",
       "      <td>-0.343</td>\n",
       "      <td>0.468</td>\n",
       "      <td>-0.820</td>\n",
       "      <td>0.4350</td>\n",
       "      <td>0.0</td>\n",
       "    </tr>\n",
       "    <tr>\n",
       "      <th>4</th>\n",
       "      <td>0.00922</td>\n",
       "      <td>-0.138</td>\n",
       "      <td>0.1690</td>\n",
       "      <td>0.1540</td>\n",
       "      <td>-0.391</td>\n",
       "      <td>-0.397</td>\n",
       "      <td>-1.6900</td>\n",
       "      <td>-1.450</td>\n",
       "      <td>-0.546</td>\n",
       "      <td>-0.527</td>\n",
       "      <td>...</td>\n",
       "      <td>-0.277</td>\n",
       "      <td>0.699</td>\n",
       "      <td>0.37100</td>\n",
       "      <td>0.481</td>\n",
       "      <td>-1.0600</td>\n",
       "      <td>-0.526</td>\n",
       "      <td>0.550</td>\n",
       "      <td>-0.284</td>\n",
       "      <td>0.1550</td>\n",
       "      <td>0.0</td>\n",
       "    </tr>\n",
       "  </tbody>\n",
       "</table>\n",
       "<p>5 rows × 118 columns</p>\n",
       "</div>"
      ],
      "text/plain": [
       "   -1.439999999999999891e-01  -1.429999999999999882e-01  \\\n",
       "0                   -0.01100                      0.138   \n",
       "1                    0.21200                     -0.313   \n",
       "2                    0.21500                     -0.184   \n",
       "3                    0.27900                     -0.197   \n",
       "4                    0.00922                     -0.138   \n",
       "\n",
       "   -1.160000000000000059e-01  -1.029999999999999943e-01  \\\n",
       "0                    -0.2230                    -0.1730   \n",
       "1                     0.2660                     0.2320   \n",
       "2                     0.0274                     0.0494   \n",
       "3                     0.1270                     0.0973   \n",
       "4                     0.1690                     0.1540   \n",
       "\n",
       "   2.260000000000000064e-01  2.099999999999999922e-01  \\\n",
       "0                     0.188                     0.284   \n",
       "1                    -1.190                    -1.150   \n",
       "2                     0.443                     0.463   \n",
       "3                    -0.213                    -0.150   \n",
       "4                    -0.391                    -0.397   \n",
       "\n",
       "   -9.799999999999999822e-01  -7.800000000000000266e-01  \\\n",
       "0                    -0.0522                     -0.256   \n",
       "1                    -1.8100                     -1.560   \n",
       "2                    -1.0500                     -0.941   \n",
       "3                    -1.3200                     -0.994   \n",
       "4                    -1.6900                     -1.450   \n",
       "\n",
       "   -4.739999999999999769e-01  -4.470000000000000084e-01  \\\n",
       "0                      0.129                      0.427   \n",
       "1                     -1.250                     -1.200   \n",
       "2                     -0.531                     -0.394   \n",
       "3                     -1.110                     -1.090   \n",
       "4                     -0.546                     -0.527   \n",
       "\n",
       "             ...             9.250000000000000444e-01  \\\n",
       "0            ...                               -0.593   \n",
       "1            ...                               -0.816   \n",
       "2            ...                                0.634   \n",
       "3            ...                               -0.640   \n",
       "4            ...                               -0.277   \n",
       "\n",
       "   5.160000000000000142e-01  3.439999999999999725e-01  \\\n",
       "0                     0.452                   0.00785   \n",
       "1                     1.570                   0.39400   \n",
       "2                     0.111                   0.37100   \n",
       "3                     0.485                   0.29500   \n",
       "4                     0.699                   0.37100   \n",
       "\n",
       "   9.060000000000000275e-01  -1.129999999999999893e+00  \\\n",
       "0                    -0.533                    -0.0789   \n",
       "1                     1.340                    -1.1800   \n",
       "2                     0.859                    -0.9930   \n",
       "3                     0.403                    -1.1200   \n",
       "4                     0.481                    -1.0600   \n",
       "\n",
       "   -5.520000000000000462e-01  5.530000000000000471e-01  \\\n",
       "0                      0.705                     0.906   \n",
       "1                     -2.700                    -0.926   \n",
       "2                     -0.492                     0.363   \n",
       "3                     -0.343                     0.468   \n",
       "4                     -0.526                     0.550   \n",
       "\n",
       "   -4.169999999999999818e-01  2.560000000000000053e-01  \\\n",
       "0                      0.216                   -0.0723   \n",
       "1                     -2.650                   -0.0447   \n",
       "2                      0.326                   -0.0528   \n",
       "3                     -0.820                    0.4350   \n",
       "4                     -0.284                    0.1550   \n",
       "\n",
       "   0.000000000000000000e+00  \n",
       "0                       0.0  \n",
       "1                       0.0  \n",
       "2                       0.0  \n",
       "3                       0.0  \n",
       "4                       0.0  \n",
       "\n",
       "[5 rows x 118 columns]"
      ]
     },
     "execution_count": 3,
     "metadata": {},
     "output_type": "execute_result"
    }
   ],
   "source": [
    "df.head()"
   ]
  },
  {
   "cell_type": "markdown",
   "metadata": {},
   "source": [
    "## Question 1: Beyond Classification Accuracy\n",
    "\n",
    "\n",
    "0.  Split the data set into a training set and a testing set.  The training set should be 75% of the original data set, and the testing set 25%.  Use `np.random.seed(9001)`.\n",
    "\n",
    "1. Fit a logistic regression classifier to the training set and report the  accuracy of the classifier on the test set. You should use $L_2$ regularization in logistic regression, with the regularization parameter tuned using cross-validation. \n",
    "    1. How does the fitted model compare with a classifier that predicts 'normal' (label 0) on all patients? \n",
    "    2. Do you think the difference in the classification accuracies are large enough to declare logistic regression as a better classifier than the all 0's classifier? Why or why not?\n",
    "    \n",
    "For applications with imbalanced class labels, in this case when there are many more healthy subjects ($Y=0$) than those with cancer ($Y=1$), the classification accuracy may not be the best metric to evaluate a classifier's performance. As an alternative, we could analyze the confusion table for the classifier. \n",
    "\n",
    "<ol start=\"3\">\n",
    "<li> Compute the confusion table for both the fitted classifier and the classifier that predicts all 0's.</li>\n",
    "<li> Using the entries of the confusion table compute the *true positive rate* and the *true negative rate* for the two classifiers. Explain what these evaluation metrics mean for the specific task of cancer detection. Based on the observed metrics, comment on whether the fitted model is better than the all 0's classifier.</li>\n",
    "<li> What is the *false positive rate* of the fitted classifier, and how is it related to its true positive and true negative rate? Why is a classifier with high false positive rate undesirable for a cancer detection task?</li>\n",
    "</ol>\n",
    "*Hint:* You may use the `metrics.confusion_matrix` function to compute the confusion matrix for a classification model."
   ]
  },
  {
   "cell_type": "code",
   "execution_count": 4,
   "metadata": {
    "collapsed": true
   },
   "outputs": [],
   "source": [
    "np.random.seed(9001)\n",
    "msk = np.random.rand(len(df)) < 0.75\n",
    "data_train = df[msk]\n",
    "data_test = df[~msk]"
   ]
  },
  {
   "cell_type": "code",
   "execution_count": 5,
   "metadata": {},
   "outputs": [
    {
     "data": {
      "text/html": [
       "<div>\n",
       "<style>\n",
       "    .dataframe thead tr:only-child th {\n",
       "        text-align: right;\n",
       "    }\n",
       "\n",
       "    .dataframe thead th {\n",
       "        text-align: left;\n",
       "    }\n",
       "\n",
       "    .dataframe tbody tr th {\n",
       "        vertical-align: top;\n",
       "    }\n",
       "</style>\n",
       "<table border=\"1\" class=\"dataframe\">\n",
       "  <thead>\n",
       "    <tr style=\"text-align: right;\">\n",
       "      <th></th>\n",
       "      <th>-1.439999999999999891e-01</th>\n",
       "      <th>-1.429999999999999882e-01</th>\n",
       "      <th>-1.160000000000000059e-01</th>\n",
       "      <th>-1.029999999999999943e-01</th>\n",
       "      <th>2.260000000000000064e-01</th>\n",
       "      <th>2.099999999999999922e-01</th>\n",
       "      <th>-9.799999999999999822e-01</th>\n",
       "      <th>-7.800000000000000266e-01</th>\n",
       "      <th>-4.739999999999999769e-01</th>\n",
       "      <th>-4.470000000000000084e-01</th>\n",
       "      <th>...</th>\n",
       "      <th>9.250000000000000444e-01</th>\n",
       "      <th>5.160000000000000142e-01</th>\n",
       "      <th>3.439999999999999725e-01</th>\n",
       "      <th>9.060000000000000275e-01</th>\n",
       "      <th>-1.129999999999999893e+00</th>\n",
       "      <th>-5.520000000000000462e-01</th>\n",
       "      <th>5.530000000000000471e-01</th>\n",
       "      <th>-4.169999999999999818e-01</th>\n",
       "      <th>2.560000000000000053e-01</th>\n",
       "      <th>0.000000000000000000e+00</th>\n",
       "    </tr>\n",
       "  </thead>\n",
       "  <tbody>\n",
       "    <tr>\n",
       "      <th>0</th>\n",
       "      <td>-0.0110</td>\n",
       "      <td>0.138</td>\n",
       "      <td>-0.223</td>\n",
       "      <td>-0.1730</td>\n",
       "      <td>0.188</td>\n",
       "      <td>0.284</td>\n",
       "      <td>-0.0522</td>\n",
       "      <td>-0.256</td>\n",
       "      <td>0.129</td>\n",
       "      <td>0.427</td>\n",
       "      <td>...</td>\n",
       "      <td>-0.593</td>\n",
       "      <td>0.4520</td>\n",
       "      <td>0.00785</td>\n",
       "      <td>-0.533</td>\n",
       "      <td>-0.0789</td>\n",
       "      <td>0.705</td>\n",
       "      <td>0.906</td>\n",
       "      <td>0.216</td>\n",
       "      <td>-0.0723</td>\n",
       "      <td>0.0</td>\n",
       "    </tr>\n",
       "    <tr>\n",
       "      <th>3</th>\n",
       "      <td>0.2790</td>\n",
       "      <td>-0.197</td>\n",
       "      <td>0.127</td>\n",
       "      <td>0.0973</td>\n",
       "      <td>-0.213</td>\n",
       "      <td>-0.150</td>\n",
       "      <td>-1.3200</td>\n",
       "      <td>-0.994</td>\n",
       "      <td>-1.110</td>\n",
       "      <td>-1.090</td>\n",
       "      <td>...</td>\n",
       "      <td>-0.640</td>\n",
       "      <td>0.4850</td>\n",
       "      <td>0.29500</td>\n",
       "      <td>0.403</td>\n",
       "      <td>-1.1200</td>\n",
       "      <td>-0.343</td>\n",
       "      <td>0.468</td>\n",
       "      <td>-0.820</td>\n",
       "      <td>0.4350</td>\n",
       "      <td>0.0</td>\n",
       "    </tr>\n",
       "    <tr>\n",
       "      <th>5</th>\n",
       "      <td>0.0569</td>\n",
       "      <td>0.192</td>\n",
       "      <td>0.302</td>\n",
       "      <td>0.2720</td>\n",
       "      <td>-0.484</td>\n",
       "      <td>-0.473</td>\n",
       "      <td>0.3480</td>\n",
       "      <td>0.256</td>\n",
       "      <td>-0.607</td>\n",
       "      <td>-0.355</td>\n",
       "      <td>...</td>\n",
       "      <td>0.206</td>\n",
       "      <td>-0.0599</td>\n",
       "      <td>-1.07000</td>\n",
       "      <td>-0.536</td>\n",
       "      <td>0.8640</td>\n",
       "      <td>0.527</td>\n",
       "      <td>0.282</td>\n",
       "      <td>0.817</td>\n",
       "      <td>-0.2830</td>\n",
       "      <td>0.0</td>\n",
       "    </tr>\n",
       "    <tr>\n",
       "      <th>6</th>\n",
       "      <td>0.0184</td>\n",
       "      <td>0.101</td>\n",
       "      <td>-0.681</td>\n",
       "      <td>-0.5900</td>\n",
       "      <td>1.530</td>\n",
       "      <td>1.500</td>\n",
       "      <td>-0.5560</td>\n",
       "      <td>-0.428</td>\n",
       "      <td>-0.583</td>\n",
       "      <td>-0.772</td>\n",
       "      <td>...</td>\n",
       "      <td>0.124</td>\n",
       "      <td>0.3070</td>\n",
       "      <td>0.35700</td>\n",
       "      <td>-0.380</td>\n",
       "      <td>0.1580</td>\n",
       "      <td>0.846</td>\n",
       "      <td>0.704</td>\n",
       "      <td>0.760</td>\n",
       "      <td>-0.1250</td>\n",
       "      <td>0.0</td>\n",
       "    </tr>\n",
       "    <tr>\n",
       "      <th>9</th>\n",
       "      <td>-0.0748</td>\n",
       "      <td>-0.432</td>\n",
       "      <td>0.923</td>\n",
       "      <td>0.7930</td>\n",
       "      <td>-1.040</td>\n",
       "      <td>-1.010</td>\n",
       "      <td>-1.9500</td>\n",
       "      <td>-1.560</td>\n",
       "      <td>-0.590</td>\n",
       "      <td>-0.575</td>\n",
       "      <td>...</td>\n",
       "      <td>-1.270</td>\n",
       "      <td>1.3600</td>\n",
       "      <td>0.38700</td>\n",
       "      <td>1.290</td>\n",
       "      <td>-1.2100</td>\n",
       "      <td>-2.050</td>\n",
       "      <td>-0.357</td>\n",
       "      <td>-2.540</td>\n",
       "      <td>0.7670</td>\n",
       "      <td>0.0</td>\n",
       "    </tr>\n",
       "  </tbody>\n",
       "</table>\n",
       "<p>5 rows × 118 columns</p>\n",
       "</div>"
      ],
      "text/plain": [
       "   -1.439999999999999891e-01  -1.429999999999999882e-01  \\\n",
       "0                    -0.0110                      0.138   \n",
       "3                     0.2790                     -0.197   \n",
       "5                     0.0569                      0.192   \n",
       "6                     0.0184                      0.101   \n",
       "9                    -0.0748                     -0.432   \n",
       "\n",
       "   -1.160000000000000059e-01  -1.029999999999999943e-01  \\\n",
       "0                     -0.223                    -0.1730   \n",
       "3                      0.127                     0.0973   \n",
       "5                      0.302                     0.2720   \n",
       "6                     -0.681                    -0.5900   \n",
       "9                      0.923                     0.7930   \n",
       "\n",
       "   2.260000000000000064e-01  2.099999999999999922e-01  \\\n",
       "0                     0.188                     0.284   \n",
       "3                    -0.213                    -0.150   \n",
       "5                    -0.484                    -0.473   \n",
       "6                     1.530                     1.500   \n",
       "9                    -1.040                    -1.010   \n",
       "\n",
       "   -9.799999999999999822e-01  -7.800000000000000266e-01  \\\n",
       "0                    -0.0522                     -0.256   \n",
       "3                    -1.3200                     -0.994   \n",
       "5                     0.3480                      0.256   \n",
       "6                    -0.5560                     -0.428   \n",
       "9                    -1.9500                     -1.560   \n",
       "\n",
       "   -4.739999999999999769e-01  -4.470000000000000084e-01  \\\n",
       "0                      0.129                      0.427   \n",
       "3                     -1.110                     -1.090   \n",
       "5                     -0.607                     -0.355   \n",
       "6                     -0.583                     -0.772   \n",
       "9                     -0.590                     -0.575   \n",
       "\n",
       "             ...             9.250000000000000444e-01  \\\n",
       "0            ...                               -0.593   \n",
       "3            ...                               -0.640   \n",
       "5            ...                                0.206   \n",
       "6            ...                                0.124   \n",
       "9            ...                               -1.270   \n",
       "\n",
       "   5.160000000000000142e-01  3.439999999999999725e-01  \\\n",
       "0                    0.4520                   0.00785   \n",
       "3                    0.4850                   0.29500   \n",
       "5                   -0.0599                  -1.07000   \n",
       "6                    0.3070                   0.35700   \n",
       "9                    1.3600                   0.38700   \n",
       "\n",
       "   9.060000000000000275e-01  -1.129999999999999893e+00  \\\n",
       "0                    -0.533                    -0.0789   \n",
       "3                     0.403                    -1.1200   \n",
       "5                    -0.536                     0.8640   \n",
       "6                    -0.380                     0.1580   \n",
       "9                     1.290                    -1.2100   \n",
       "\n",
       "   -5.520000000000000462e-01  5.530000000000000471e-01  \\\n",
       "0                      0.705                     0.906   \n",
       "3                     -0.343                     0.468   \n",
       "5                      0.527                     0.282   \n",
       "6                      0.846                     0.704   \n",
       "9                     -2.050                    -0.357   \n",
       "\n",
       "   -4.169999999999999818e-01  2.560000000000000053e-01  \\\n",
       "0                      0.216                   -0.0723   \n",
       "3                     -0.820                    0.4350   \n",
       "5                      0.817                   -0.2830   \n",
       "6                      0.760                   -0.1250   \n",
       "9                     -2.540                    0.7670   \n",
       "\n",
       "   0.000000000000000000e+00  \n",
       "0                       0.0  \n",
       "3                       0.0  \n",
       "5                       0.0  \n",
       "6                       0.0  \n",
       "9                       0.0  \n",
       "\n",
       "[5 rows x 118 columns]"
      ]
     },
     "execution_count": 5,
     "metadata": {},
     "output_type": "execute_result"
    }
   ],
   "source": [
    "data_train.head()"
   ]
  },
  {
   "cell_type": "markdown",
   "metadata": {},
   "source": [
    "#### Part 2 ####"
   ]
  },
  {
   "cell_type": "code",
   "execution_count": 6,
   "metadata": {},
   "outputs": [
    {
     "data": {
      "text/html": [
       "<div>\n",
       "<style>\n",
       "    .dataframe thead tr:only-child th {\n",
       "        text-align: right;\n",
       "    }\n",
       "\n",
       "    .dataframe thead th {\n",
       "        text-align: left;\n",
       "    }\n",
       "\n",
       "    .dataframe tbody tr th {\n",
       "        vertical-align: top;\n",
       "    }\n",
       "</style>\n",
       "<table border=\"1\" class=\"dataframe\">\n",
       "  <thead>\n",
       "    <tr style=\"text-align: right;\">\n",
       "      <th></th>\n",
       "      <th>-1.439999999999999891e-01</th>\n",
       "      <th>-1.429999999999999882e-01</th>\n",
       "      <th>-1.160000000000000059e-01</th>\n",
       "      <th>-1.029999999999999943e-01</th>\n",
       "      <th>2.260000000000000064e-01</th>\n",
       "      <th>2.099999999999999922e-01</th>\n",
       "      <th>-9.799999999999999822e-01</th>\n",
       "      <th>-7.800000000000000266e-01</th>\n",
       "      <th>-4.739999999999999769e-01</th>\n",
       "      <th>-4.470000000000000084e-01</th>\n",
       "      <th>...</th>\n",
       "      <th>4.259999999999999898e-01</th>\n",
       "      <th>-7.379999999999999893e-01</th>\n",
       "      <th>9.250000000000000444e-01</th>\n",
       "      <th>5.160000000000000142e-01</th>\n",
       "      <th>3.439999999999999725e-01</th>\n",
       "      <th>9.060000000000000275e-01</th>\n",
       "      <th>-1.129999999999999893e+00</th>\n",
       "      <th>-5.520000000000000462e-01</th>\n",
       "      <th>5.530000000000000471e-01</th>\n",
       "      <th>-4.169999999999999818e-01</th>\n",
       "    </tr>\n",
       "  </thead>\n",
       "  <tbody>\n",
       "    <tr>\n",
       "      <th>0</th>\n",
       "      <td>-0.0110</td>\n",
       "      <td>0.138</td>\n",
       "      <td>-0.223</td>\n",
       "      <td>-0.1730</td>\n",
       "      <td>0.188</td>\n",
       "      <td>0.284</td>\n",
       "      <td>-0.0522</td>\n",
       "      <td>-0.256</td>\n",
       "      <td>0.129</td>\n",
       "      <td>0.427</td>\n",
       "      <td>...</td>\n",
       "      <td>-0.558000</td>\n",
       "      <td>0.420</td>\n",
       "      <td>-0.593</td>\n",
       "      <td>0.4520</td>\n",
       "      <td>0.00785</td>\n",
       "      <td>-0.533</td>\n",
       "      <td>-0.0789</td>\n",
       "      <td>0.705</td>\n",
       "      <td>0.906</td>\n",
       "      <td>0.216</td>\n",
       "    </tr>\n",
       "    <tr>\n",
       "      <th>1</th>\n",
       "      <td>0.2790</td>\n",
       "      <td>-0.197</td>\n",
       "      <td>0.127</td>\n",
       "      <td>0.0973</td>\n",
       "      <td>-0.213</td>\n",
       "      <td>-0.150</td>\n",
       "      <td>-1.3200</td>\n",
       "      <td>-0.994</td>\n",
       "      <td>-1.110</td>\n",
       "      <td>-1.090</td>\n",
       "      <td>...</td>\n",
       "      <td>1.040000</td>\n",
       "      <td>-0.688</td>\n",
       "      <td>-0.640</td>\n",
       "      <td>0.4850</td>\n",
       "      <td>0.29500</td>\n",
       "      <td>0.403</td>\n",
       "      <td>-1.1200</td>\n",
       "      <td>-0.343</td>\n",
       "      <td>0.468</td>\n",
       "      <td>-0.820</td>\n",
       "    </tr>\n",
       "    <tr>\n",
       "      <th>2</th>\n",
       "      <td>0.0569</td>\n",
       "      <td>0.192</td>\n",
       "      <td>0.302</td>\n",
       "      <td>0.2720</td>\n",
       "      <td>-0.484</td>\n",
       "      <td>-0.473</td>\n",
       "      <td>0.3480</td>\n",
       "      <td>0.256</td>\n",
       "      <td>-0.607</td>\n",
       "      <td>-0.355</td>\n",
       "      <td>...</td>\n",
       "      <td>-0.000909</td>\n",
       "      <td>0.277</td>\n",
       "      <td>0.206</td>\n",
       "      <td>-0.0599</td>\n",
       "      <td>-1.07000</td>\n",
       "      <td>-0.536</td>\n",
       "      <td>0.8640</td>\n",
       "      <td>0.527</td>\n",
       "      <td>0.282</td>\n",
       "      <td>0.817</td>\n",
       "    </tr>\n",
       "    <tr>\n",
       "      <th>3</th>\n",
       "      <td>0.0184</td>\n",
       "      <td>0.101</td>\n",
       "      <td>-0.681</td>\n",
       "      <td>-0.5900</td>\n",
       "      <td>1.530</td>\n",
       "      <td>1.500</td>\n",
       "      <td>-0.5560</td>\n",
       "      <td>-0.428</td>\n",
       "      <td>-0.583</td>\n",
       "      <td>-0.772</td>\n",
       "      <td>...</td>\n",
       "      <td>0.313000</td>\n",
       "      <td>-0.338</td>\n",
       "      <td>0.124</td>\n",
       "      <td>0.3070</td>\n",
       "      <td>0.35700</td>\n",
       "      <td>-0.380</td>\n",
       "      <td>0.1580</td>\n",
       "      <td>0.846</td>\n",
       "      <td>0.704</td>\n",
       "      <td>0.760</td>\n",
       "    </tr>\n",
       "    <tr>\n",
       "      <th>4</th>\n",
       "      <td>-0.0748</td>\n",
       "      <td>-0.432</td>\n",
       "      <td>0.923</td>\n",
       "      <td>0.7930</td>\n",
       "      <td>-1.040</td>\n",
       "      <td>-1.010</td>\n",
       "      <td>-1.9500</td>\n",
       "      <td>-1.560</td>\n",
       "      <td>-0.590</td>\n",
       "      <td>-0.575</td>\n",
       "      <td>...</td>\n",
       "      <td>0.156000</td>\n",
       "      <td>-1.480</td>\n",
       "      <td>-1.270</td>\n",
       "      <td>1.3600</td>\n",
       "      <td>0.38700</td>\n",
       "      <td>1.290</td>\n",
       "      <td>-1.2100</td>\n",
       "      <td>-2.050</td>\n",
       "      <td>-0.357</td>\n",
       "      <td>-2.540</td>\n",
       "    </tr>\n",
       "  </tbody>\n",
       "</table>\n",
       "<p>5 rows × 116 columns</p>\n",
       "</div>"
      ],
      "text/plain": [
       "   -1.439999999999999891e-01  -1.429999999999999882e-01  \\\n",
       "0                    -0.0110                      0.138   \n",
       "1                     0.2790                     -0.197   \n",
       "2                     0.0569                      0.192   \n",
       "3                     0.0184                      0.101   \n",
       "4                    -0.0748                     -0.432   \n",
       "\n",
       "   -1.160000000000000059e-01  -1.029999999999999943e-01  \\\n",
       "0                     -0.223                    -0.1730   \n",
       "1                      0.127                     0.0973   \n",
       "2                      0.302                     0.2720   \n",
       "3                     -0.681                    -0.5900   \n",
       "4                      0.923                     0.7930   \n",
       "\n",
       "   2.260000000000000064e-01  2.099999999999999922e-01  \\\n",
       "0                     0.188                     0.284   \n",
       "1                    -0.213                    -0.150   \n",
       "2                    -0.484                    -0.473   \n",
       "3                     1.530                     1.500   \n",
       "4                    -1.040                    -1.010   \n",
       "\n",
       "   -9.799999999999999822e-01  -7.800000000000000266e-01  \\\n",
       "0                    -0.0522                     -0.256   \n",
       "1                    -1.3200                     -0.994   \n",
       "2                     0.3480                      0.256   \n",
       "3                    -0.5560                     -0.428   \n",
       "4                    -1.9500                     -1.560   \n",
       "\n",
       "   -4.739999999999999769e-01  -4.470000000000000084e-01  \\\n",
       "0                      0.129                      0.427   \n",
       "1                     -1.110                     -1.090   \n",
       "2                     -0.607                     -0.355   \n",
       "3                     -0.583                     -0.772   \n",
       "4                     -0.590                     -0.575   \n",
       "\n",
       "             ...              4.259999999999999898e-01  \\\n",
       "0            ...                             -0.558000   \n",
       "1            ...                              1.040000   \n",
       "2            ...                             -0.000909   \n",
       "3            ...                              0.313000   \n",
       "4            ...                              0.156000   \n",
       "\n",
       "   -7.379999999999999893e-01  9.250000000000000444e-01  \\\n",
       "0                      0.420                    -0.593   \n",
       "1                     -0.688                    -0.640   \n",
       "2                      0.277                     0.206   \n",
       "3                     -0.338                     0.124   \n",
       "4                     -1.480                    -1.270   \n",
       "\n",
       "   5.160000000000000142e-01  3.439999999999999725e-01  \\\n",
       "0                    0.4520                   0.00785   \n",
       "1                    0.4850                   0.29500   \n",
       "2                   -0.0599                  -1.07000   \n",
       "3                    0.3070                   0.35700   \n",
       "4                    1.3600                   0.38700   \n",
       "\n",
       "   9.060000000000000275e-01  -1.129999999999999893e+00  \\\n",
       "0                    -0.533                    -0.0789   \n",
       "1                     0.403                    -1.1200   \n",
       "2                    -0.536                     0.8640   \n",
       "3                    -0.380                     0.1580   \n",
       "4                     1.290                    -1.2100   \n",
       "\n",
       "   -5.520000000000000462e-01  5.530000000000000471e-01  \\\n",
       "0                      0.705                     0.906   \n",
       "1                     -0.343                     0.468   \n",
       "2                      0.527                     0.282   \n",
       "3                      0.846                     0.704   \n",
       "4                     -2.050                    -0.357   \n",
       "\n",
       "   -4.169999999999999818e-01  \n",
       "0                      0.216  \n",
       "1                     -0.820  \n",
       "2                      0.817  \n",
       "3                      0.760  \n",
       "4                     -2.540  \n",
       "\n",
       "[5 rows x 116 columns]"
      ]
     },
     "execution_count": 6,
     "metadata": {},
     "output_type": "execute_result"
    }
   ],
   "source": [
    "Y_train = data_train.iloc[:, -1].reset_index(drop=True)\n",
    "X_train = data_train.iloc[:, 0:-2].reset_index(drop=True)\n",
    "\n",
    "Y_test = data_test.iloc[:, -1].reset_index(drop=True)\n",
    "X_test = data_test.iloc[:, 0:-2].reset_index(drop=True)\n",
    "\n",
    "X_train.head()"
   ]
  },
  {
   "cell_type": "code",
   "execution_count": 7,
   "metadata": {},
   "outputs": [
    {
     "data": {
      "text/plain": [
       "LogisticRegressionCV(Cs=9, class_weight=None, cv=5, dual=False,\n",
       "           fit_intercept=True, intercept_scaling=1.0, max_iter=100,\n",
       "           multi_class='ovr', n_jobs=1, penalty='l2', random_state=None,\n",
       "           refit=True, scoring=None, solver='lbfgs', tol=0.0001, verbose=0)"
      ]
     },
     "execution_count": 7,
     "metadata": {},
     "output_type": "execute_result"
    }
   ],
   "source": [
    "log_model_cv = LogisticRegressionCV(Cs=9, cv=5, penalty='l2')\n",
    "log_model_cv.fit(X_train, Y_train)"
   ]
  },
  {
   "cell_type": "code",
   "execution_count": 8,
   "metadata": {},
   "outputs": [
    {
     "name": "stdout",
     "output_type": "stream",
     "text": [
      "Logistic Model Accuracy: 99.532%\n",
      "All 0 Model Accuracy: 99.391%\n"
     ]
    }
   ],
   "source": [
    "log_model_accuracy = log_model_cv.score(X_test, Y_test)\n",
    "all_0_model_accuracy = (Y_test==0).mean()\n",
    "print('Logistic Model Accuracy: %.3f%%' % (log_model_accuracy*100))\n",
    "print('All 0 Model Accuracy: %.3f%%' % (all_0_model_accuracy*100))"
   ]
  },
  {
   "cell_type": "markdown",
   "metadata": {},
   "source": [
    "Based on the accuracies only, the logistic model does not have an advantage compare to the all 0 model, as the number of label 1 is too small compared to the total number of patients."
   ]
  },
  {
   "cell_type": "markdown",
   "metadata": {},
   "source": [
    "#### Part 3 and 4 ####"
   ]
  },
  {
   "cell_type": "code",
   "execution_count": 9,
   "metadata": {},
   "outputs": [
    {
     "data": {
      "text/plain": [
       "array([[16976,     8],\n",
       "       [   72,    32]])"
      ]
     },
     "execution_count": 9,
     "metadata": {},
     "output_type": "execute_result"
    }
   ],
   "source": [
    "from sklearn.metrics import confusion_matrix\n",
    "Y_test_pred = log_model_cv.predict(X_test)\n",
    "cm_log = confusion_matrix(Y_test, Y_test_pred)\n",
    "cm_log"
   ]
  },
  {
   "cell_type": "code",
   "execution_count": 10,
   "metadata": {},
   "outputs": [
    {
     "data": {
      "text/plain": [
       "array([[16984,     0],\n",
       "       [  104,     0]])"
      ]
     },
     "execution_count": 10,
     "metadata": {},
     "output_type": "execute_result"
    }
   ],
   "source": [
    "cm_all_0 = confusion_matrix(Y_test, np.zeros(len(Y_test)))\n",
    "cm_all_0"
   ]
  },
  {
   "cell_type": "code",
   "execution_count": 11,
   "metadata": {},
   "outputs": [
    {
     "name": "stdout",
     "output_type": "stream",
     "text": [
      "Logistic Model True Negative Rate: 99.953%\n",
      "Logistic Model True Positive Rate: 30.769%\n",
      "All 0 Model True Negative Rate: 100.000%\n",
      "All 0 Model True Positive Rate: 0.000%\n"
     ]
    }
   ],
   "source": [
    "TN_logistic = cm_log[0][0]/((Y_test==0).sum()) * 100\n",
    "TP_logistic = cm_log[1][1]/((Y_test==1).sum()) * 100\n",
    "TN_all_0 = cm_all_0[0][0]/((Y_test==0).sum()) * 100\n",
    "TP_all_0 = cm_all_0[1][1]/((Y_test==1).sum()) * 100\n",
    "\n",
    "print('Logistic Model True Negative Rate: %.3f%%' % TN_logistic)\n",
    "print('Logistic Model True Positive Rate: %.3f%%' % TP_logistic)\n",
    "print('All 0 Model True Negative Rate: %.3f%%' % TN_all_0)\n",
    "print('All 0 Model True Positive Rate: %.3f%%' % TP_all_0)"
   ]
  },
  {
   "cell_type": "markdown",
   "metadata": {},
   "source": [
    "True positive and true negative stand for the correct prediction of positive and negative respectively.\n",
    "The true negative metrics play a minimal role here as the total number of negative is too large.\n",
    "However, from the true positive metrics we can see that the logistic model has 30% accuracy. Comparing to the 0% (of course) accuracy of the all 0 model, we can safely say that the logitic model is a better model."
   ]
  },
  {
   "cell_type": "markdown",
   "metadata": {},
   "source": [
    "#### Part 5 ####"
   ]
  },
  {
   "cell_type": "code",
   "execution_count": 12,
   "metadata": {},
   "outputs": [
    {
     "name": "stdout",
     "output_type": "stream",
     "text": [
      "Logistic Model False Positive Rate: 0.047%\n"
     ]
    }
   ],
   "source": [
    "FP_logistic = cm_log[0][1]/((Y_test==0).sum()) * 100\n",
    "print('Logistic Model False Positive Rate: %.3f%%' % FP_logistic)"
   ]
  },
  {
   "cell_type": "markdown",
   "metadata": {},
   "source": [
    "False Positive rate + True negative rate = 1\n",
    "\n",
    "In cancer detection task, higher false positive rate will cause larger number of normal patients to be diagnosed as cancer patients, which will cause unnecessary costly treament and mental burden."
   ]
  },
  {
   "cell_type": "markdown",
   "metadata": {},
   "source": [
    "## Question 2: ROC Analysis\n",
    "\n",
    "Another powerful diagnostic tool for class-imbalanced classification tasks is the Receiver Operating Characteristic (ROC) curve. Notice that the default logistic regression classifier in `sklearn` classifies a data point by thresholding the predicted class probability $\\hat{P}(Y=1)$ at 0.5. By using a different threshold, we can adjust the trade-off between the true positive rate (TPR) and false positive rate (FPR) of the classifier. The ROC curve allows us to visualize this trade-off across all possible thresholds.\n",
    "\n",
    "\n",
    "1. Display the ROC curve for the fitted classifier on the *test set*. In the same plot, also display the ROC curve for the all 0's classifier. How do the two curves compare?\n",
    "\n",
    "2.  Compute the highest TPR that can be achieved by the classifier at each of the following FPR's, and the thresholds at which they are achieved. Based on your results, comment on how the threshold influences a classifier's FPR.\n",
    "    - FPR = 0\n",
    "    - FPR = 0.1\n",
    "    - FPR = 0.5\n",
    "    - FPR = 0.9\n",
    "- Suppose a clinician told you that diagnosing a cancer patient as normal is *twice* as critical an error as diagnosing a normal patient as having cancer. Based on this information, what threshold would you recommend the clinician to use? What is the TPR and FPR of the classifier at this threshold? \n",
    "\n",
    "- Compute the area under the ROC curve (AUC) for both the fitted classifier and the all 0's classifier. How does the difference in the AUCs of the two classifiers compare with the difference between their classification accuracies in Question 1, Part 2(A)? \n",
    "\n",
    "*Hint:* You may use the `metrics.roc_curve` function to compute the ROC curve for a classification model and the `metrics.roc_auc_score` function to compute the AUC for the model."
   ]
  },
  {
   "cell_type": "markdown",
   "metadata": {},
   "source": [
    "#### Part 1 ####"
   ]
  },
  {
   "cell_type": "code",
   "execution_count": 13,
   "metadata": {
    "collapsed": true
   },
   "outputs": [],
   "source": [
    "log_fpr, log_tpr, log_th = metrics.roc_curve(Y_test, log_model_cv.predict_proba(X_test)[:, 1])\n",
    "all_0_fpr, all_0_tpr, all_0_th = metrics.roc_curve(Y_test, np.zeros(len(Y_test)))"
   ]
  },
  {
   "cell_type": "code",
   "execution_count": 14,
   "metadata": {},
   "outputs": [
    {
     "data": {
      "image/png": "[encoded data removed]",
      "text/plain": [
       "<matplotlib.figure.Figure at 0x2c2041a0080>"
      ]
     },
     "metadata": {},
     "output_type": "display_data"
    }
   ],
   "source": [
    "sns.set_context('poster')\n",
    "plt.plot(log_th[:-2], log_fpr[:-2], label='Logistic FP rate')\n",
    "plt.plot(log_th[:-2], log_tpr[:-2], label='Logistic TP rate')\n",
    "plt.plot(all_0_th, all_0_fpr, label='All 0 FP rate')\n",
    "plt.plot(all_0_th, all_0_tpr, label='All 0 TP rate')\n",
    "plt.xscale('log')\n",
    "plt.legend(loc='best')\n",
    "plt.show()"
   ]
  },
  {
   "cell_type": "code",
   "execution_count": 15,
   "metadata": {},
   "outputs": [
    {
     "data": {
      "image/png": "[encoded data removed]",
      "text/plain": [
       "<matplotlib.figure.Figure at 0x2c204760fd0>"
      ]
     },
     "metadata": {},
     "output_type": "display_data"
    }
   ],
   "source": [
    "sns.set_context('poster')\n",
    "plt.plot(log_fpr[:-2], log_tpr[:-2], label='Logistic Model (area=%.2f)' % metrics.auc(log_fpr, log_tpr))\n",
    "plt.plot(all_0_fpr, all_0_tpr, label='All 0 Model (area=%.2f)' % metrics.auc(all_0_fpr, all_0_tpr))\n",
    "plt.xlabel('False Positive Rate')\n",
    "plt.ylabel('True Positive Rate')\n",
    "plt.legend(loc='best')\n",
    "plt.show()"
   ]
  },
  {
   "cell_type": "markdown",
   "metadata": {},
   "source": [
    "The all 0 model has FP and TP rate curve to be 0 regardless of the threshold setting.\n",
    "The false positive rate decreases from 1 to 0 faster than the true positive rate as the threshold increases"
   ]
  },
  {
   "cell_type": "markdown",
   "metadata": {
    "collapsed": true
   },
   "source": [
    "## Question 3: Missing data\n",
    "\n",
    "In this problem you are given a different data set, `hw6_dataset_missing.csv`, that is  similar to the one you used above (same column definitions and same conditions), however this data set contains missing values. \n",
    "\n",
    "*Note*: be careful of reading/treating column names and row names in this data set as well, it *may* be different than the first data set.\n",
    "\n",
    "\n",
    "1. Remove all observations that contain and missing values, split the dataset into a 75-25 train-test split, and fit the regularized logistic regression as in Question 1 (use `LogisticRegressionCV` again to retune).  Report the overall classification rate and TPR in the test set.\n",
    "2. Restart with a fresh copy of the data in `hw6_dataset_missing.csv` and impute the missing data via mean imputation.  Split the data 75-25 and fit the regularized logistic regression model.  Report the overall classification rate and TPR in the test set.  \n",
    "3. Again restart with a fresh copy of the data in `hw6_dataset_missing.csv` and impute the missing data via a model-based imputation method. Once again split the data 75-25 and fit the regularized logistic regression model.  Report the overall classification rate and TPR in the test set.  \n",
    "4. Compare the results in the 3 previous parts of this problem.  Prepare a paragraph (5-6 sentences) discussing the results, the computational complexity of the methods, and conjecture and explain why you get the results that you see.\n",
    "\n"
   ]
  },
  {
   "cell_type": "code",
   "execution_count": 16,
   "metadata": {},
   "outputs": [
    {
     "data": {
      "text/plain": [
       "(24999, 118)"
      ]
     },
     "execution_count": 16,
     "metadata": {},
     "output_type": "execute_result"
    }
   ],
   "source": [
    "df_miss = pd.read_csv('HW6_dataset_missing.csv', index_col=0)\n",
    "df_miss.shape"
   ]
  },
  {
   "cell_type": "markdown",
   "metadata": {},
   "source": [
    "#### Part 1 ####"
   ]
  },
  {
   "cell_type": "code",
   "execution_count": 17,
   "metadata": {
    "collapsed": true
   },
   "outputs": [],
   "source": [
    "df_miss_drop = df_miss.dropna()"
   ]
  },
  {
   "cell_type": "code",
   "execution_count": 18,
   "metadata": {},
   "outputs": [
    {
     "data": {
      "text/plain": [
       "(1436, 118)"
      ]
     },
     "execution_count": 18,
     "metadata": {},
     "output_type": "execute_result"
    }
   ],
   "source": [
    "df_miss_drop.shape"
   ]
  },
  {
   "cell_type": "code",
   "execution_count": 19,
   "metadata": {
    "collapsed": true
   },
   "outputs": [],
   "source": [
    "np.random.seed(9001)\n",
    "msk = np.random.rand(len(df_miss_drop)) < 0.75\n",
    "data_train_drop = df_miss_drop[msk]\n",
    "data_test_drop = df_miss_drop[~msk]"
   ]
  },
  {
   "cell_type": "code",
   "execution_count": 20,
   "metadata": {},
   "outputs": [
    {
     "data": {
      "text/plain": [
       "(1080, 117)"
      ]
     },
     "execution_count": 20,
     "metadata": {},
     "output_type": "execute_result"
    }
   ],
   "source": [
    "Y_train_drop = data_train_drop.iloc[:, -1].reset_index(drop=True)\n",
    "X_train_drop = data_train_drop.iloc[:, :-1].reset_index(drop=True)\n",
    "\n",
    "Y_test_drop = data_test_drop.iloc[:, -1].reset_index(drop=True)\n",
    "X_test_drop = data_test_drop.iloc[:, :-1].reset_index(drop=True)\n",
    "\n",
    "X_train_drop.shape"
   ]
  },
  {
   "cell_type": "code",
   "execution_count": 21,
   "metadata": {},
   "outputs": [
    {
     "name": "stderr",
     "output_type": "stream",
     "text": [
      "D:\\ProgramData\\Anaconda3\\envs\\py36\\lib\\site-packages\\sklearn\\model_selection\\_split.py:581: Warning: The least populated class in y has only 1 members, which is too few. The minimum number of groups for any class cannot be less than n_splits=5.\n",
      "  % (min_groups, self.n_splits)), Warning)\n"
     ]
    },
    {
     "data": {
      "text/plain": [
       "LogisticRegressionCV(Cs=9, class_weight=None, cv=5, dual=False,\n",
       "           fit_intercept=True, intercept_scaling=1.0, max_iter=100,\n",
       "           multi_class='ovr', n_jobs=1, penalty='l2', random_state=None,\n",
       "           refit=True, scoring=None, solver='lbfgs', tol=0.0001, verbose=0)"
      ]
     },
     "execution_count": 21,
     "metadata": {},
     "output_type": "execute_result"
    }
   ],
   "source": [
    "log_model_cv_drop = LogisticRegressionCV(Cs=9, cv=5, penalty='l2')\n",
    "log_model_cv_drop.fit(X_train_drop, Y_train_drop)"
   ]
  },
  {
   "cell_type": "code",
   "execution_count": 22,
   "metadata": {},
   "outputs": [
    {
     "name": "stdout",
     "output_type": "stream",
     "text": [
      "Logistic Model Accuracy: 99.438%\n"
     ]
    }
   ],
   "source": [
    "log_model_drop_accuracy = log_model_cv_drop.score(X_test_drop, Y_test_drop)\n",
    "print('Logistic Model Accuracy: %.3f%%' % (log_model_drop_accuracy*100))"
   ]
  },
  {
   "cell_type": "code",
   "execution_count": 23,
   "metadata": {},
   "outputs": [
    {
     "name": "stdout",
     "output_type": "stream",
     "text": [
      "Logistic Model True Positive Rate: 0.000%\n"
     ]
    }
   ],
   "source": [
    "cm_log_drop = confusion_matrix(Y_test_drop, log_model_cv_drop.predict(X_test_drop))\n",
    "TP_logistic = cm_log_drop[1][1]/(cm_log_drop[1].sum()) * 100\n",
    "print('Logistic Model True Positive Rate: %.3f%%' % TP_logistic)"
   ]
  },
  {
   "cell_type": "code",
   "execution_count": 24,
   "metadata": {},
   "outputs": [
    {
     "data": {
      "text/plain": [
       "array([[354,   0],\n",
       "       [  2,   0]])"
      ]
     },
     "execution_count": 24,
     "metadata": {},
     "output_type": "execute_result"
    }
   ],
   "source": [
    "confusion_matrix(Y_test_drop, log_model_cv_drop.predict(X_test_drop))"
   ]
  },
  {
   "cell_type": "markdown",
   "metadata": {},
   "source": [
    "#### Part 2 ####"
   ]
  },
  {
   "cell_type": "code",
   "execution_count": 25,
   "metadata": {
    "collapsed": true
   },
   "outputs": [],
   "source": [
    "df_miss_mean = df_miss.copy()"
   ]
  },
  {
   "cell_type": "code",
   "execution_count": 26,
   "metadata": {
    "collapsed": true
   },
   "outputs": [],
   "source": [
    "for c in df_miss_mean.columns:\n",
    "    df_miss_mean[c] = df_miss[c].fillna(df_miss[c].dropna().mean())"
   ]
  },
  {
   "cell_type": "code",
   "execution_count": 27,
   "metadata": {},
   "outputs": [
    {
     "data": {
      "text/plain": [
       "True"
      ]
     },
     "execution_count": 27,
     "metadata": {},
     "output_type": "execute_result"
    }
   ],
   "source": [
    "df_miss_mean.notnull().all().all()"
   ]
  },
  {
   "cell_type": "code",
   "execution_count": 28,
   "metadata": {
    "collapsed": true
   },
   "outputs": [],
   "source": [
    "np.random.seed(9001)\n",
    "msk = np.random.rand(len(df_miss_mean)) < 0.75\n",
    "data_train_mean = df_miss_mean[msk]\n",
    "data_test_mean = df_miss_mean[~msk]"
   ]
  },
  {
   "cell_type": "code",
   "execution_count": 29,
   "metadata": {},
   "outputs": [
    {
     "data": {
      "text/plain": [
       "(18874, 117)"
      ]
     },
     "execution_count": 29,
     "metadata": {},
     "output_type": "execute_result"
    }
   ],
   "source": [
    "Y_train_mean = data_train_mean.iloc[:, -1].reset_index(drop=True)\n",
    "X_train_mean = data_train_mean.iloc[:, :-1].reset_index(drop=True)\n",
    "\n",
    "Y_test_mean = data_test_mean.iloc[:, -1].reset_index(drop=True)\n",
    "X_test_mean = data_test_mean.iloc[:, :-1].reset_index(drop=True)\n",
    "\n",
    "X_train_mean.shape"
   ]
  },
  {
   "cell_type": "code",
   "execution_count": 30,
   "metadata": {},
   "outputs": [
    {
     "data": {
      "text/plain": [
       "LogisticRegressionCV(Cs=9, class_weight=None, cv=5, dual=False,\n",
       "           fit_intercept=True, intercept_scaling=1.0, max_iter=100,\n",
       "           multi_class='ovr', n_jobs=1, penalty='l2', random_state=None,\n",
       "           refit=True, scoring=None, solver='lbfgs', tol=0.0001, verbose=0)"
      ]
     },
     "execution_count": 30,
     "metadata": {},
     "output_type": "execute_result"
    }
   ],
   "source": [
    "log_model_cv_mean = LogisticRegressionCV(Cs=9, cv=5, penalty='l2')\n",
    "log_model_cv_mean.fit(X_train_mean, Y_train_mean)"
   ]
  },
  {
   "cell_type": "code",
   "execution_count": 31,
   "metadata": {},
   "outputs": [
    {
     "name": "stdout",
     "output_type": "stream",
     "text": [
      "Logistic Model Accuracy: 99.265%\n"
     ]
    }
   ],
   "source": [
    "log_model_mean_accuracy = log_model_cv_mean.score(X_test_mean, Y_test_mean)\n",
    "print('Logistic Model Accuracy: %.3f%%' % (log_model_mean_accuracy*100))"
   ]
  },
  {
   "cell_type": "code",
   "execution_count": 32,
   "metadata": {},
   "outputs": [
    {
     "name": "stdout",
     "output_type": "stream",
     "text": [
      "Logistic Model True Positive Rate: 11.765%\n"
     ]
    }
   ],
   "source": [
    "cm_log_mean = confusion_matrix(Y_test_mean, log_model_cv_mean.predict(X_test_mean))\n",
    "TP_logistic = cm_log_mean[1][1]/(cm_log_mean[1].sum()) * 100\n",
    "print('Logistic Model True Positive Rate: %.3f%%' % TP_logistic)"
   ]
  },
  {
   "cell_type": "code",
   "execution_count": 33,
   "metadata": {},
   "outputs": [
    {
     "data": {
      "text/plain": [
       "array([[6074,    0],\n",
       "       [  45,    6]])"
      ]
     },
     "execution_count": 33,
     "metadata": {},
     "output_type": "execute_result"
    }
   ],
   "source": [
    "cm_log_mean"
   ]
  },
  {
   "cell_type": "markdown",
   "metadata": {},
   "source": [
    "#### Part 3 ####"
   ]
  },
  {
   "cell_type": "code",
   "execution_count": 34,
   "metadata": {
    "collapsed": true
   },
   "outputs": [],
   "source": [
    "from sklearn.neighbors import KNeighborsRegressor"
   ]
  },
  {
   "cell_type": "code",
   "execution_count": 46,
   "metadata": {
    "collapsed": true
   },
   "outputs": [],
   "source": [
    "df_miss_model = df_miss.copy()\n",
    "df_cols = df_miss_model.columns\n",
    "Y_miss_model = df_miss_model.copy().iloc[:, -1]\n",
    "X_miss_model = df_miss_model.copy().iloc[:, :-1]"
   ]
  },
  {
   "cell_type": "code",
   "execution_count": 47,
   "metadata": {},
   "outputs": [
    {
     "data": {
      "text/plain": [
       "(1436, 117)"
      ]
     },
     "execution_count": 47,
     "metadata": {},
     "output_type": "execute_result"
    }
   ],
   "source": [
    "X_miss_model.dropna().shape"
   ]
  },
  {
   "cell_type": "code",
   "execution_count": 48,
   "metadata": {},
   "outputs": [
    {
     "data": {
      "text/plain": [
       "array([ 92,  93,  94,  95,  96,  97,  98,  99, 100, 101, 102, 103, 104,\n",
       "       105, 106, 107, 108], dtype=int64)"
      ]
     },
     "execution_count": 48,
     "metadata": {},
     "output_type": "execute_result"
    }
   ],
   "source": [
    "miss_cols = np.where(X_miss_model.isnull().sum(axis=0) != 0)[0]\n",
    "miss_cols"
   ]
  },
  {
   "cell_type": "code",
   "execution_count": 49,
   "metadata": {},
   "outputs": [
    {
     "name": "stdout",
     "output_type": "stream",
     "text": [
      "Processing Column: 92\n",
      "Processing Column: 93\n",
      "Processing Column: 94\n",
      "Processing Column: 95\n",
      "Processing Column: 96\n",
      "Processing Column: 97\n",
      "Processing Column: 98\n",
      "Processing Column: 99\n",
      "Processing Column: 100\n",
      "Processing Column: 101\n",
      "Processing Column: 102\n",
      "Processing Column: 103\n",
      "Processing Column: 104\n",
      "Processing Column: 105\n",
      "Processing Column: 106\n",
      "Processing Column: 107\n",
      "Processing Column: 108\n"
     ]
    }
   ],
   "source": [
    "# Since there are only 17 columns that have missing data\n",
    "# we can build models based on the rest 100 columns and impute the missing data\n",
    "\n",
    "for c in miss_cols:\n",
    "    print('Processing Column: %d' % c)\n",
    "    ind_valid = np.where(X_miss_model.iloc[:, c].notnull())[0]\n",
    "    ind_miss = np.where(X_miss_model.iloc[:, c].isnull())[0]\n",
    "    \n",
    "    X_valid_response = X_miss_model.iloc[ind_valid, c]\n",
    "    X_valid_predictor = X_miss_model.drop(df_cols[miss_cols], axis=1).iloc[ind_valid, :]\n",
    "    X_miss_predictor = X_miss_model.drop(df_cols[miss_cols], axis=1).iloc[ind_miss, :]\n",
    "    \n",
    "    knn_model = KNeighborsRegressor(n_neighbors = 3)\n",
    "    knn_model.fit(X_valid_predictor, X_valid_response)\n",
    "    \n",
    "    X_miss_model.iloc[ind_miss, c] = knn_model.predict(X_miss_predictor)"
   ]
  },
  {
   "cell_type": "code",
   "execution_count": 50,
   "metadata": {},
   "outputs": [
    {
     "data": {
      "text/plain": [
       "(24999, 117)"
      ]
     },
     "execution_count": 50,
     "metadata": {},
     "output_type": "execute_result"
    }
   ],
   "source": [
    "X_miss_model.dropna().shape"
   ]
  },
  {
   "cell_type": "code",
   "execution_count": 51,
   "metadata": {
    "collapsed": true
   },
   "outputs": [],
   "source": [
    "np.random.seed(9001)\n",
    "msk = np.random.rand(len(X_miss_model)) < 0.75\n",
    "X_miss_train = X_miss_model[msk]\n",
    "Y_miss_train = Y_miss_model[msk]\n",
    "X_miss_test = X_miss_model[~msk]\n",
    "Y_miss_test = Y_miss_model[~msk]"
   ]
  },
  {
   "cell_type": "code",
   "execution_count": 52,
   "metadata": {},
   "outputs": [
    {
     "data": {
      "text/plain": [
       "LogisticRegressionCV(Cs=9, class_weight=None, cv=5, dual=False,\n",
       "           fit_intercept=True, intercept_scaling=1.0, max_iter=100,\n",
       "           multi_class='ovr', n_jobs=1, penalty='l2', random_state=None,\n",
       "           refit=True, scoring=None, solver='lbfgs', tol=0.0001, verbose=0)"
      ]
     },
     "execution_count": 52,
     "metadata": {},
     "output_type": "execute_result"
    }
   ],
   "source": [
    "log_model_impute = LogisticRegressionCV(Cs=9, cv=5, penalty='l2')\n",
    "log_model_impute.fit(X_miss_train, Y_miss_train)"
   ]
  },
  {
   "cell_type": "code",
   "execution_count": 53,
   "metadata": {},
   "outputs": [
    {
     "name": "stdout",
     "output_type": "stream",
     "text": [
      "Logistic Model Accuracy: 99.233%\n"
     ]
    }
   ],
   "source": [
    "log_model_impute_accuracy = log_model_impute.score(X_miss_test, Y_miss_test)\n",
    "print('Logistic Model Accuracy: %.3f%%' % (log_model_impute_accuracy*100))"
   ]
  },
  {
   "cell_type": "code",
   "execution_count": 54,
   "metadata": {},
   "outputs": [
    {
     "name": "stdout",
     "output_type": "stream",
     "text": [
      "Logistic Model True Positive Rate: 19.608%\n"
     ]
    }
   ],
   "source": [
    "cm_log_impute = confusion_matrix(Y_miss_test, log_model_impute.predict(X_miss_test))\n",
    "TP_logistic = cm_log_impute[1][1]/(cm_log_impute[1].sum()) * 100\n",
    "print('Logistic Model True Positive Rate: %.3f%%' % TP_logistic)"
   ]
  },
  {
   "cell_type": "code",
   "execution_count": 55,
   "metadata": {},
   "outputs": [
    {
     "data": {
      "text/plain": [
       "array([[6068,    6],\n",
       "       [  41,   10]])"
      ]
     },
     "execution_count": 55,
     "metadata": {},
     "output_type": "execute_result"
    }
   ],
   "source": [
    "cm_log_impute"
   ]
  },
  {
   "cell_type": "markdown",
   "metadata": {},
   "source": [
    "#### Part 4 ####"
   ]
  },
  {
   "cell_type": "markdown",
   "metadata": {},
   "source": [
    "All three methods have similar accuracy > 99%, which is expected as most of the classes are 0.\n",
    "However, we can clearly see improvement on the true positive rate as the imputation complexity increases.\n",
    "Dropping all missing data is a method with minimal compuation complexity, but it is not a appropriate model here as most of the observations have at least one missing data.\n",
    "Imputation with mean improves the true positive rate a little bit without too much computation.\n",
    "Imputation with modeling (kNN is used here) requires the higher computational complexity among these three methods. However, it provide the best true positive prediction (though come with with some false positives). This makes sense as the missing data are predicted by building models on all valid data (majority). If the predictors' correlation is high then imputation by model will give a great performance boost on the true positive rate, as shown in part 3"
   ]
  },
  {
   "cell_type": "markdown",
   "metadata": {},
   "source": [
    "## APCOMP209a - Homework Question"
   ]
  },
  {
   "cell_type": "markdown",
   "metadata": {
    "collapsed": true
   },
   "source": [
    "\n",
    "This problem walks you through the derivation of the **likelihood equations** for a generalized linear model (GLM). Suppose that the random component of the GLM is in the univariate natural exponential family, so that\n",
    "$$f(y_i|\\theta_i) = h(y_i) e^{y_i\\theta_i - b(\\theta_i)}$$\n",
    "Define the individual log-likelihood for each observation $i$ as\n",
    "$$l_i(\\theta_i) \\equiv \\log f(y_i|\\theta_i)$$\n",
    "with linear predictor\n",
    "$$\\eta_i = x_i^T\\beta = g(\\mu_i)$$\n",
    "for some link function $g$ and where $\\mu_i=E(Y_i)$.\n",
    "\n",
    "1. Use the above expressions to write a simplified expression for the log-likelihood $l(\\theta)$ for the entire dataset, $y_1, \\dots, y_n$.\n",
    "\n",
    "2. Use the chain rule to express $\\frac{\\partial l_i}{\\partial \\beta_j}$ in terms of the derivatives of $l_i, \\theta_i, \\mu_i$, and $\\eta_i$. (*Hint*: Think carefully about which variables are related to which, and in what way. For example, for which of the above variables do you know the derivative with respect to $\\beta_j$?)\n",
    "\n",
    "3. Compute the derivatives for $\\frac{\\partial l_i}{\\partial \\theta_i}$ and $\\frac{\\partial \\eta_i}{\\partial \\beta_j}$.\n",
    "\n",
    "4. Express $\\mu_i$ in terms of $\\theta_i$, and use this relationship to compute $\\frac{\\partial \\theta_i}{\\partial \\mu_i}$. (\\emph{Hint}: Recall the cumulant function of a natural exponential family, and assume that you can write $\\partial f/\\partial g = (\\partial g / \\partial f)^{-1}$.)\n",
    "\n",
    "5. Express $\\eta_i$ in terms of $\\mu_i$. Using the same hint as the above, compute $\\frac{\\partial \\mu_i}{\\partial \\eta_i}$.\n",
    "\n",
    "6. Put all of the above parts together to write an expression for $\\frac{\\partial l}{\\partial \\beta_j}$. Use matrix notation to write this expression as\n",
    "$$\\nabla_{\\beta} l(\\beta) = XDV^{-1}(Y - \\mu) = 0$$\n",
    "That is, compute the matrices $D$ and $V$ such that this equation holds.\n",
    "\n",
    "7. If we use the canonical link function, how do your answers to part (6) simplify?\n",
    "\n",
    "8. Finally, compute the above likelihood equations in the case of logistic regression, and show that this is equivalent to the solution given in lecture.\n"
   ]
  },
  {
   "cell_type": "markdown",
   "metadata": {},
   "source": [
    "#### Part 1 ####"
   ]
  },
  {
   "cell_type": "markdown",
   "metadata": {
    "collapsed": true
   },
   "source": [
    "\\begin{align}\n",
    "l_i(\\theta_i) &= \\log f(y_i|\\theta_i) \\\\\n",
    "&= \\log (h(y_i) e^{y_i\\theta_i - b(\\theta_i)})\\\\\n",
    "&= y_i\\theta_i - b(\\theta_i) + \\log (h(y_i))\n",
    "\\end{align}"
   ]
  },
  {
   "cell_type": "markdown",
   "metadata": {},
   "source": [
    "#### Part 2 ####"
   ]
  },
  {
   "cell_type": "markdown",
   "metadata": {},
   "source": [
    "\\begin{align}\n",
    "\\frac{\\partial l_i}{\\partial \\beta_j} &= \\frac{\\partial l_i}{\\partial \\theta_i} \\frac{\\partial \\theta_i}{\\partial \\beta_j} \\\\\n",
    "\\end{align}"
   ]
  },
  {
   "cell_type": "markdown",
   "metadata": {},
   "source": [
    "#### Part 3 ####"
   ]
  },
  {
   "cell_type": "markdown",
   "metadata": {},
   "source": [
    "\\begin{align}\n",
    "\\frac{\\partial l_i}{\\partial \\theta_i} &= y_i - b'(\\theta_i)\n",
    "\\end{align}"
   ]
  },
  {
   "cell_type": "markdown",
   "metadata": {},
   "source": [
    "#### Part 4 ####"
   ]
  },
  {
   "cell_type": "markdown",
   "metadata": {},
   "source": [
    "From part 3 we know $$\\mu_i = b'(\\theta_i)$$\n",
    "then\n",
    "\\begin{align}\n",
    "\\frac{\\partial \\theta_i}{\\partial \\mu_i} &= (\\frac{\\partial \\mu_i}{\\partial \\theta_i})^{-1}\\\\\n",
    "&= \\frac {1}{b''(\\theta_i)}\n",
    "\\end{align}"
   ]
  },
  {
   "cell_type": "markdown",
   "metadata": {},
   "source": [
    "#### Part 5 ####"
   ]
  },
  {
   "cell_type": "markdown",
   "metadata": {},
   "source": []
  },
  {
   "cell_type": "markdown",
   "metadata": {},
   "source": [
    "#### Part 6 ####"
   ]
  },
  {
   "cell_type": "markdown",
   "metadata": {},
   "source": []
  },
  {
   "cell_type": "markdown",
   "metadata": {},
   "source": [
    "#### Part 7 ####"
   ]
  },
  {
   "cell_type": "markdown",
   "metadata": {},
   "source": []
  },
  {
   "cell_type": "markdown",
   "metadata": {},
   "source": [
    "#### Part 8 ####"
   ]
  },
  {
   "cell_type": "markdown",
   "metadata": {},
   "source": []
  }
 ],
 "metadata": {
  "anaconda-cloud": {},
  "kernelspec": {
   "display_name": "Python 3",
   "language": "python",
   "name": "python3"
  },
  "language_info": {
   "codemirror_mode": {
    "name": "ipython",
    "version": 3
   },
   "file_extension": ".py",
   "mimetype": "text/x-python",
   "name": "python",
   "nbconvert_exporter": "python",
   "pygments_lexer": "ipython3",
   "version": "3.6.1"
  }
 },
 "nbformat": 4,
 "nbformat_minor": 1
}
